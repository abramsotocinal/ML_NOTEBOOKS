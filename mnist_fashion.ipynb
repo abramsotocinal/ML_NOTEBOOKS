{
 "cells": [
  {
   "attachments": {},
   "cell_type": "markdown",
   "metadata": {},
   "source": [
    "# Fashion MNIST Dataset in PyTorch\n",
    "\n",
    "A warmup exercise in CNNs and PyTorch because I'm an idiot and never backed up my projects until my laptop died. Anyway"
   ]
  },
  {
   "attachments": {},
   "cell_type": "markdown",
   "metadata": {},
   "source": [
    "## 1. Get Data"
   ]
  },
  {
   "cell_type": "code",
   "execution_count": 126,
   "metadata": {},
   "outputs": [],
   "source": [
    "import os\n",
    "import glob\n",
    "import re\n",
    "import gzip\n",
    "import requests\n",
    "import numpy as np\n",
    "import torchvision\n",
    "\n",
    "# get data\n",
    "TEST =  { 'X' : 'https://github.com/zalandoresearch/fashion-mnist/raw/master/data/fashion/t10k-images-idx3-ubyte.gz',\n",
    "          'y' : 'https://github.com/zalandoresearch/fashion-mnist/raw/master/data/fashion/t10k-labels-idx1-ubyte.gz'  }\n",
    "\n",
    "TRAIN = { 'X' : 'https://github.com/zalandoresearch/fashion-mnist/raw/master/data/fashion/train-images-idx3-ubyte.gz',\n",
    "          'y' : 'https://github.com/zalandoresearch/fashion-mnist/raw/master/data/fashion/train-labels-idx1-ubyte.gz' }\n",
    "\n",
    "PROJ_ROOT = os.getcwd()\n",
    "DATA_DIR = os.path.join(PROJ_ROOT,'data/mnist/')\n",
    "\n",
    "def download_extract(data: dict, dest: str, train: bool=True) -> None:\n",
    "    # create data dir if it doesn't exist\n",
    "    if not os.path.isdir(DATA_DIR):\n",
    "        os.makedirs(DATA_DIR)\n",
    "    if not os.listdir(DATA_DIR):\n",
    "        res_x = requests.get(data['X'])\n",
    "        res_y = requests.get(data['y'])   \n",
    "        if train:\n",
    "            with open(os.path.join(dest, 'X_train'), 'wb') as X:\n",
    "                X.write(res_x.content)\n",
    "            with open(os.path.join(dest, 'y_train'), 'wb') as y:\n",
    "                y.write(res_y.content)\n",
    "        else:\n",
    "            with open(os.path.join(dest, 'X_test'), 'wb') as X:\n",
    "                X.write(res_x.content)\n",
    "            with open(os.path.join(dest, 'y_test'), 'wb') as y:\n",
    "                y.write(res_y.content)\n",
    "    else:\n",
    "        print(f'Directory {DATA_DIR} is not empty, aborting')\n",
    "\n",
    "def read_data(data_dir: str, train: bool=True)-> np.array:\n",
    "    '''\n",
    "    NOTE: Fashion MNIST Data from zalando research's github comes with flattened features\n",
    "    we must resize these features into something PyTorch can process\n",
    "    '''\n",
    "    if train:\n",
    "        for i in glob.glob(os.path.join(data_dir,'*_train')):\n",
    "            if not re.match(r'X_*',os.path.basename(i)):\n",
    "                with gzip.open(i, 'rb') as lbpath:\n",
    "                    labels = np.frombuffer(lbpath.read(), dtype=np.uint8,\n",
    "                               offset=8)\n",
    "            else:\n",
    "                with gzip.open(i, 'rb') as imgpath:\n",
    "                    images = np.frombuffer(imgpath.read(), dtype=np.uint8,\n",
    "                               offset=16)\n",
    "    else:\n",
    "        for i in glob.glob(os.path.join(data_dir,'*_test')):\n",
    "            if not re.match(r'X_*',os.path.basename(i)):\n",
    "                with gzip.open(i, 'rb') as lbpath:\n",
    "                    labels = np.frombuffer(lbpath.read(), dtype=np.uint8,\n",
    "                               offset=8)\n",
    "            else:\n",
    "                with gzip.open(i, 'rb') as imgpath:\n",
    "                    images = np.frombuffer(imgpath.read(), dtype=np.uint8,\n",
    "                               offset=16)\n",
    "    images = images.reshape(len(labels), 784)\n",
    "    return images,labels\n",
    "\n"
   ]
  },
  {
   "cell_type": "code",
   "execution_count": null,
   "metadata": {},
   "outputs": [],
   "source": [
    "download_extract(TRAIN, DATA_DIR)\n",
    "download_extract(TEST, DATA_DIR, train=False)"
   ]
  },
  {
   "cell_type": "code",
   "execution_count": null,
   "metadata": {},
   "outputs": [],
   "source": [
    "X_train, y_train = read_data(DATA_DIR)"
   ]
  },
  {
   "cell_type": "code",
   "execution_count": null,
   "metadata": {},
   "outputs": [],
   "source": [
    "# verify dataset dimensions\n",
    "print(X_train.shape)\n",
    "print(y_train.shape)"
   ]
  },
  {
   "cell_type": "code",
   "execution_count": 129,
   "metadata": {},
   "outputs": [],
   "source": [
    "X_train_tensor = torchvision.transforms.ToTensor()\n",
    "img_tensor = X_train_tensor(X_train)"
   ]
  },
  {
   "cell_type": "code",
   "execution_count": 135,
   "metadata": {},
   "outputs": [
    {
     "name": "stdout",
     "output_type": "stream",
     "text": [
      "torch.Size([60000, 1, 28, 28])\n",
      "tensor([[[0.0000, 0.0000, 0.0000, 0.0000, 0.0000, 0.0000, 0.0000, 0.0000,\n",
      "          0.0000, 0.0000, 0.0000, 0.0000, 0.0000, 0.0000, 0.0000, 0.0000,\n",
      "          0.0000, 0.0000, 0.0000, 0.0000, 0.0000, 0.0000, 0.0000, 0.0000,\n",
      "          0.0000, 0.0000, 0.0000, 0.0000],\n",
      "         [0.0000, 0.0000, 0.0000, 0.0000, 0.0000, 0.0000, 0.0000, 0.0000,\n",
      "          0.0000, 0.0000, 0.0000, 0.0000, 0.0000, 0.0000, 0.0000, 0.0000,\n",
      "          0.0000, 0.0000, 0.0000, 0.0000, 0.0000, 0.0000, 0.0000, 0.0000,\n",
      "          0.0000, 0.0000, 0.0000, 0.0000],\n",
      "         [0.0000, 0.0000, 0.0000, 0.0000, 0.0000, 0.0000, 0.0000, 0.0000,\n",
      "          0.0000, 0.0000, 0.0000, 0.0000, 0.0000, 0.0000, 0.0000, 0.0000,\n",
      "          0.0000, 0.0000, 0.0000, 0.0000, 0.0000, 0.0000, 0.0000, 0.0000,\n",
      "          0.0000, 0.0000, 0.0000, 0.0000],\n",
      "         [0.0000, 0.0000, 0.0000, 0.0000, 0.0000, 0.0000, 0.0000, 0.0000,\n",
      "          0.0000, 0.0000, 0.0000, 0.0000, 0.0039, 0.0000, 0.0000, 0.0510,\n",
      "          0.2863, 0.0000, 0.0000, 0.0039, 0.0157, 0.0000, 0.0000, 0.0000,\n",
      "          0.0000, 0.0039, 0.0039, 0.0000],\n",
      "         [0.0000, 0.0000, 0.0000, 0.0000, 0.0000, 0.0000, 0.0000, 0.0000,\n",
      "          0.0000, 0.0000, 0.0000, 0.0000, 0.0118, 0.0000, 0.1412, 0.5333,\n",
      "          0.4980, 0.2431, 0.2118, 0.0000, 0.0000, 0.0000, 0.0039, 0.0118,\n",
      "          0.0157, 0.0000, 0.0000, 0.0118],\n",
      "         [0.0000, 0.0000, 0.0000, 0.0000, 0.0000, 0.0000, 0.0000, 0.0000,\n",
      "          0.0000, 0.0000, 0.0000, 0.0000, 0.0235, 0.0000, 0.4000, 0.8000,\n",
      "          0.6902, 0.5255, 0.5647, 0.4824, 0.0902, 0.0000, 0.0000, 0.0000,\n",
      "          0.0000, 0.0471, 0.0392, 0.0000],\n",
      "         [0.0000, 0.0000, 0.0000, 0.0000, 0.0000, 0.0000, 0.0000, 0.0000,\n",
      "          0.0000, 0.0000, 0.0000, 0.0000, 0.0000, 0.0000, 0.6078, 0.9255,\n",
      "          0.8118, 0.6980, 0.4196, 0.6118, 0.6314, 0.4275, 0.2510, 0.0902,\n",
      "          0.3020, 0.5098, 0.2824, 0.0588],\n",
      "         [0.0000, 0.0000, 0.0000, 0.0000, 0.0000, 0.0000, 0.0000, 0.0000,\n",
      "          0.0000, 0.0000, 0.0000, 0.0039, 0.0000, 0.2706, 0.8118, 0.8745,\n",
      "          0.8549, 0.8471, 0.8471, 0.6392, 0.4980, 0.4745, 0.4784, 0.5725,\n",
      "          0.5529, 0.3451, 0.6745, 0.2588],\n",
      "         [0.0000, 0.0000, 0.0000, 0.0000, 0.0000, 0.0000, 0.0000, 0.0000,\n",
      "          0.0000, 0.0039, 0.0039, 0.0039, 0.0000, 0.7843, 0.9098, 0.9098,\n",
      "          0.9137, 0.8980, 0.8745, 0.8745, 0.8431, 0.8353, 0.6431, 0.4980,\n",
      "          0.4824, 0.7686, 0.8980, 0.0000],\n",
      "         [0.0000, 0.0000, 0.0000, 0.0000, 0.0000, 0.0000, 0.0000, 0.0000,\n",
      "          0.0000, 0.0000, 0.0000, 0.0000, 0.0000, 0.7176, 0.8824, 0.8471,\n",
      "          0.8745, 0.8941, 0.9216, 0.8902, 0.8784, 0.8706, 0.8784, 0.8667,\n",
      "          0.8745, 0.9608, 0.6784, 0.0000],\n",
      "         [0.0000, 0.0000, 0.0000, 0.0000, 0.0000, 0.0000, 0.0000, 0.0000,\n",
      "          0.0000, 0.0000, 0.0000, 0.0000, 0.0000, 0.7569, 0.8941, 0.8549,\n",
      "          0.8353, 0.7765, 0.7059, 0.8314, 0.8235, 0.8275, 0.8353, 0.8745,\n",
      "          0.8627, 0.9529, 0.7922, 0.0000],\n",
      "         [0.0000, 0.0000, 0.0000, 0.0000, 0.0000, 0.0000, 0.0000, 0.0000,\n",
      "          0.0000, 0.0039, 0.0118, 0.0000, 0.0471, 0.8588, 0.8627, 0.8314,\n",
      "          0.8549, 0.7529, 0.6627, 0.8902, 0.8157, 0.8549, 0.8784, 0.8314,\n",
      "          0.8863, 0.7725, 0.8196, 0.2039],\n",
      "         [0.0000, 0.0000, 0.0000, 0.0000, 0.0000, 0.0000, 0.0000, 0.0000,\n",
      "          0.0000, 0.0000, 0.0235, 0.0000, 0.3882, 0.9569, 0.8706, 0.8627,\n",
      "          0.8549, 0.7961, 0.7765, 0.8667, 0.8431, 0.8353, 0.8706, 0.8627,\n",
      "          0.9608, 0.4667, 0.6549, 0.2196],\n",
      "         [0.0000, 0.0000, 0.0000, 0.0000, 0.0000, 0.0000, 0.0000, 0.0000,\n",
      "          0.0000, 0.0157, 0.0000, 0.0000, 0.2157, 0.9255, 0.8941, 0.9020,\n",
      "          0.8941, 0.9412, 0.9098, 0.8353, 0.8549, 0.8745, 0.9176, 0.8510,\n",
      "          0.8510, 0.8196, 0.3608, 0.0000],\n",
      "         [0.0000, 0.0000, 0.0039, 0.0157, 0.0235, 0.0275, 0.0078, 0.0000,\n",
      "          0.0000, 0.0000, 0.0000, 0.0000, 0.9294, 0.8863, 0.8510, 0.8745,\n",
      "          0.8706, 0.8588, 0.8706, 0.8667, 0.8471, 0.8745, 0.8980, 0.8431,\n",
      "          0.8549, 1.0000, 0.3020, 0.0000],\n",
      "         [0.0000, 0.0118, 0.0000, 0.0000, 0.0000, 0.0000, 0.0000, 0.0000,\n",
      "          0.0000, 0.2431, 0.5686, 0.8000, 0.8941, 0.8118, 0.8353, 0.8667,\n",
      "          0.8549, 0.8157, 0.8275, 0.8549, 0.8784, 0.8745, 0.8588, 0.8431,\n",
      "          0.8784, 0.9569, 0.6235, 0.0000],\n",
      "         [0.0000, 0.0000, 0.0000, 0.0000, 0.0706, 0.1725, 0.3216, 0.4196,\n",
      "          0.7412, 0.8941, 0.8627, 0.8706, 0.8510, 0.8863, 0.7843, 0.8039,\n",
      "          0.8275, 0.9020, 0.8784, 0.9176, 0.6902, 0.7373, 0.9804, 0.9725,\n",
      "          0.9137, 0.9333, 0.8431, 0.0000],\n",
      "         [0.0000, 0.2235, 0.7333, 0.8157, 0.8784, 0.8667, 0.8784, 0.8157,\n",
      "          0.8000, 0.8392, 0.8157, 0.8196, 0.7843, 0.6235, 0.9608, 0.7569,\n",
      "          0.8078, 0.8745, 1.0000, 1.0000, 0.8667, 0.9176, 0.8667, 0.8275,\n",
      "          0.8627, 0.9098, 0.9647, 0.0000],\n",
      "         [0.0118, 0.7922, 0.8941, 0.8784, 0.8667, 0.8275, 0.8275, 0.8392,\n",
      "          0.8039, 0.8039, 0.8039, 0.8627, 0.9412, 0.3137, 0.5882, 1.0000,\n",
      "          0.8980, 0.8667, 0.7373, 0.6039, 0.7490, 0.8235, 0.8000, 0.8196,\n",
      "          0.8706, 0.8941, 0.8824, 0.0000],\n",
      "         [0.3843, 0.9137, 0.7765, 0.8235, 0.8706, 0.8980, 0.8980, 0.9176,\n",
      "          0.9765, 0.8627, 0.7608, 0.8431, 0.8510, 0.9451, 0.2549, 0.2863,\n",
      "          0.4157, 0.4588, 0.6588, 0.8588, 0.8667, 0.8431, 0.8510, 0.8745,\n",
      "          0.8745, 0.8784, 0.8980, 0.1137],\n",
      "         [0.2941, 0.8000, 0.8314, 0.8000, 0.7569, 0.8039, 0.8275, 0.8824,\n",
      "          0.8471, 0.7255, 0.7725, 0.8078, 0.7765, 0.8353, 0.9412, 0.7647,\n",
      "          0.8902, 0.9608, 0.9373, 0.8745, 0.8549, 0.8314, 0.8196, 0.8706,\n",
      "          0.8627, 0.8667, 0.9020, 0.2627],\n",
      "         [0.1882, 0.7961, 0.7176, 0.7608, 0.8353, 0.7725, 0.7255, 0.7451,\n",
      "          0.7608, 0.7529, 0.7922, 0.8392, 0.8588, 0.8667, 0.8627, 0.9255,\n",
      "          0.8824, 0.8471, 0.7804, 0.8078, 0.7294, 0.7098, 0.6941, 0.6745,\n",
      "          0.7098, 0.8039, 0.8078, 0.4510],\n",
      "         [0.0000, 0.4784, 0.8588, 0.7569, 0.7020, 0.6706, 0.7176, 0.7686,\n",
      "          0.8000, 0.8235, 0.8353, 0.8118, 0.8275, 0.8235, 0.7843, 0.7686,\n",
      "          0.7608, 0.7490, 0.7647, 0.7490, 0.7765, 0.7529, 0.6902, 0.6118,\n",
      "          0.6549, 0.6941, 0.8235, 0.3608],\n",
      "         [0.0000, 0.0000, 0.2902, 0.7412, 0.8314, 0.7490, 0.6863, 0.6745,\n",
      "          0.6863, 0.7098, 0.7255, 0.7373, 0.7412, 0.7373, 0.7569, 0.7765,\n",
      "          0.8000, 0.8196, 0.8235, 0.8235, 0.8275, 0.7373, 0.7373, 0.7608,\n",
      "          0.7529, 0.8471, 0.6667, 0.0000],\n",
      "         [0.0078, 0.0000, 0.0000, 0.0000, 0.2588, 0.7843, 0.8706, 0.9294,\n",
      "          0.9373, 0.9490, 0.9647, 0.9529, 0.9569, 0.8667, 0.8627, 0.7569,\n",
      "          0.7490, 0.7020, 0.7137, 0.7137, 0.7098, 0.6902, 0.6510, 0.6588,\n",
      "          0.3882, 0.2275, 0.0000, 0.0000],\n",
      "         [0.0000, 0.0000, 0.0000, 0.0000, 0.0000, 0.0000, 0.0000, 0.1569,\n",
      "          0.2392, 0.1725, 0.2824, 0.1608, 0.1373, 0.0000, 0.0000, 0.0000,\n",
      "          0.0000, 0.0000, 0.0000, 0.0000, 0.0000, 0.0000, 0.0000, 0.0000,\n",
      "          0.0000, 0.0000, 0.0000, 0.0000],\n",
      "         [0.0000, 0.0000, 0.0000, 0.0000, 0.0000, 0.0000, 0.0000, 0.0000,\n",
      "          0.0000, 0.0000, 0.0000, 0.0000, 0.0000, 0.0000, 0.0000, 0.0000,\n",
      "          0.0000, 0.0000, 0.0000, 0.0000, 0.0000, 0.0000, 0.0000, 0.0000,\n",
      "          0.0000, 0.0000, 0.0000, 0.0000],\n",
      "         [0.0000, 0.0000, 0.0000, 0.0000, 0.0000, 0.0000, 0.0000, 0.0000,\n",
      "          0.0000, 0.0000, 0.0000, 0.0000, 0.0000, 0.0000, 0.0000, 0.0000,\n",
      "          0.0000, 0.0000, 0.0000, 0.0000, 0.0000, 0.0000, 0.0000, 0.0000,\n",
      "          0.0000, 0.0000, 0.0000, 0.0000]]])\n"
     ]
    }
   ],
   "source": [
    "img_tensor = img_tensor.view(-1,1,28,28) # reshaping the tensor with torch.view()\n",
    "print(img_tensor.shape)\n",
    "print(img_tensor[0])"
   ]
  },
  {
   "cell_type": "code",
   "execution_count": null,
   "metadata": {},
   "outputs": [],
   "source": [
    "%matplotlib inline\n",
    "# plot random sample\n",
    "import matplotlib.pyplot as plt\n",
    "\n",
    "plt.imshow(X_train[69].reshape((28,28))) # 784 features, a 28 by 28 image"
   ]
  },
  {
   "attachments": {},
   "cell_type": "markdown",
   "metadata": {},
   "source": [
    "## 2. Prepare Data for Processing\n",
    "\n",
    "We skipped the bigger transformations since the MNIST-Fashion dataset already comes processed(images featurized, flattened) so all we need to do is to store the data into objects which PyTorch can process.\n",
    "\n",
    "We store featurized image data into PyTorch `Dataset` objects(converting them into tensor inside the class) and run them through the `DataLoader` class"
   ]
  },
  {
   "cell_type": "code",
   "execution_count": 143,
   "metadata": {},
   "outputs": [],
   "source": [
    "# Transform into PyTorch Dataset/Dataloader objects\n",
    "import torch\n",
    "from torch.utils.data import Dataset, DataLoader\n",
    "\n",
    "device = 'cuda' if torch.cuda.is_available() else 'cpu'\n",
    "\n",
    "class ImageDatasetV2(Dataset):\n",
    "    toTensor = torchvision.transforms.ToTensor()\n",
    "    def __init__(self, data: np.array, labels: np.array) -> None:\n",
    "        self.data = self.toTensor(data).view(-1,1,28,28)\n",
    "        self.labels = torch.from_numpy(labels)\n",
    "    def __len__(self) -> int:\n",
    "        return len(self.labels)\n",
    "    def __getitem__(self, idx):\n",
    "        return self.data[idx], self.labels[idx]\n",
    "\n",
    "class ImageDataset(Dataset):\n",
    "    '''\n",
    "    NOTE: Fashion MNIST Data from zalando research's github comes with flattened features\n",
    "    we must resize these features into something PyTorch can process\n",
    "    torch.flatten() will help with that\n",
    "    '''\n",
    "    class_names = { 0: \t'T-shirt/top',\n",
    "        1: \t'Trouser',\n",
    "        2: \t'Pullover',\n",
    "        3: \t'Dress',\n",
    "        4: \t'Coat',\n",
    "        5: \t'Sandal',\n",
    "        6: \t'Shirt',\n",
    "        7: \t'Sneaker',\n",
    "        8: \t'Bag',\n",
    "        9: \t'Ankle boot' }\n",
    "    def __init__(self,data: np.array, classes: np.array) -> None:\n",
    "        self.data = torch.unflatten(torch.from_numpy(data).to(dtype=torch.float32),1,(28,28),).unsqueeze(dim=1).to(device) # undsqueeze to add the colour channel dimension [NCWH]\n",
    "        self.classes = torch.from_numpy(classes).to(dtype=torch.float32,device=device)\n",
    "    def __get_class(self,idx):\n",
    "        return self.classes[idx]\n",
    "    def __len__(self):\n",
    "        return len(self.data)\n",
    "    def __getitem__(self, idx):\n",
    "        return self.data[idx],self.classes[idx]"
   ]
  },
  {
   "cell_type": "code",
   "execution_count": 144,
   "metadata": {},
   "outputs": [],
   "source": [
    "# train_data = ImageDataset(X_train,y_train)\n",
    "train_data = ImageDatasetV2(X_train, y_train)"
   ]
  },
  {
   "cell_type": "code",
   "execution_count": 145,
   "metadata": {},
   "outputs": [
    {
     "data": {
      "text/plain": [
       "(60000, torch.Size([60000, 1, 28, 28]))"
      ]
     },
     "execution_count": 145,
     "metadata": {},
     "output_type": "execute_result"
    }
   ],
   "source": [
    "# check the custom Dataset object\n",
    "len(train_data), train_data.data.shape"
   ]
  },
  {
   "cell_type": "code",
   "execution_count": null,
   "metadata": {},
   "outputs": [],
   "source": [
    "# as per documentation, the labels correspond to the following label names\n",
    "class_names = { 0: \t'T-shirt/top',\n",
    "1: \t'Trouser',\n",
    "2: \t'Pullover',\n",
    "3: \t'Dress',\n",
    "4: \t'Coat',\n",
    "5: \t'Sandal',\n",
    "6: \t'Shirt',\n",
    "7: \t'Sneaker',\n",
    "8: \t'Bag',\n",
    "9: \t'Ankle boot' }"
   ]
  },
  {
   "cell_type": "code",
   "execution_count": 147,
   "metadata": {},
   "outputs": [],
   "source": [
    "# Let's verify the custom dataset object works\n",
    "\n",
    "# let's pick a random sample from an arbitrary index\n",
    "rand_img, rand_img_label = train_data.data[42].to('cpu'), train_data.labels[42].to('cpu')"
   ]
  },
  {
   "cell_type": "code",
   "execution_count": 148,
   "metadata": {},
   "outputs": [
    {
     "data": {
      "text/plain": [
       "torch.Size([1, 28, 28])"
      ]
     },
     "execution_count": 148,
     "metadata": {},
     "output_type": "execute_result"
    }
   ],
   "source": [
    "# print out input data shape\n",
    "rand_img.shape"
   ]
  },
  {
   "cell_type": "code",
   "execution_count": 149,
   "metadata": {},
   "outputs": [
    {
     "data": {
      "text/plain": [
       "torch.Size([60000, 1, 28, 28])"
      ]
     },
     "execution_count": 149,
     "metadata": {},
     "output_type": "execute_result"
    }
   ],
   "source": [
    "train_data.data.shape"
   ]
  },
  {
   "cell_type": "code",
   "execution_count": 150,
   "metadata": {},
   "outputs": [
    {
     "data": {
      "text/plain": [
       "<matplotlib.image.AxesImage at 0x7f927dcff1f0>"
      ]
     },
     "execution_count": 150,
     "metadata": {},
     "output_type": "execute_result"
    },
    {
     "data": {
      "image/png": "[encoded data removed]",
      "text/plain": [
       "<Figure size 640x480 with 1 Axes>"
      ]
     },
     "metadata": {},
     "output_type": "display_data"
    }
   ],
   "source": [
    "plt.imshow(rand_img[0])"
   ]
  },
  {
   "cell_type": "code",
   "execution_count": 151,
   "metadata": {},
   "outputs": [
    {
     "name": "stdout",
     "output_type": "stream",
     "text": [
      "label: 9, Ankle boot\n"
     ]
    }
   ],
   "source": [
    "# verify the label is correct \n",
    "print(f'label: {rand_img_label}, {class_names[rand_img_label.item()]}') # label should be an ankle boot"
   ]
  },
  {
   "cell_type": "code",
   "execution_count": 152,
   "metadata": {},
   "outputs": [],
   "source": [
    "# Run them through the DataLoader class, with 100 samples per batch being processed\n",
    "train_data_loader = DataLoader(dataset=train_data, batch_size=100, shuffle=False)"
   ]
  },
  {
   "attachments": {},
   "cell_type": "markdown",
   "metadata": {},
   "source": [
    "## 3. Create Model\n",
    "\n",
    "We're just going with a custom CNN model with Torch's built in `nn.Module`"
   ]
  },
  {
   "cell_type": "code",
   "execution_count": 153,
   "metadata": {},
   "outputs": [],
   "source": [
    "from torch import nn\n",
    "\n",
    "# Create custom CNN class\n",
    "\n",
    "class MNISTCnn(nn.Module):\n",
    "    '''\n",
    "    MNISTCnn model, patterned on the TinyVGG architecture\n",
    "    '''\n",
    "    def __init__(self,input_shape: int, hidden_units: int, output_shape: int) -> None:\n",
    "        '''\n",
    "        input_shape - number of input features, ie, colour channel, width, height\n",
    "        hidden_units - number of neurons in the hidden layers\n",
    "        output_shape - number of classes/labels\n",
    "\n",
    "        2 blocks of 2 conv layers and maxpooling layer\n",
    "        a flatten and a classifier at the output\n",
    "        '''\n",
    "        super().__init__()\n",
    "        self.block1 = nn.Sequential(\n",
    "            nn.Conv2d(in_channels=input_shape,\n",
    "                      out_channels=hidden_units,\n",
    "                      kernel_size=3,\n",
    "                      stride=1,\n",
    "                      padding=1),\n",
    "            nn.ReLU(),\n",
    "            nn.Conv2d(in_channels=hidden_units,\n",
    "                      out_channels=hidden_units,\n",
    "                      kernel_size=3,\n",
    "                      stride=1,\n",
    "                      padding=1),\n",
    "            nn.ReLU(),\n",
    "            nn.MaxPool2d(kernel_size=2,stride=2)          \n",
    "        )\n",
    "        self.block2 = nn.Sequential(\n",
    "            nn.Conv2d(in_channels=hidden_units,\n",
    "                      out_channels=hidden_units,\n",
    "                      kernel_size=3,\n",
    "                      stride=1,\n",
    "                      padding=1),\n",
    "            nn.ReLU(),\n",
    "            nn.Conv2d(in_channels=hidden_units,\n",
    "                      out_channels=hidden_units,\n",
    "                      kernel_size=3,\n",
    "                      stride=1,\n",
    "                      padding=1),\n",
    "            nn.ReLU(),\n",
    "            nn.MaxPool2d(kernel_size=2)          \n",
    "        )\n",
    "        self.classifier = nn.Sequential(\n",
    "            nn.Flatten(),\n",
    "            nn.Linear(in_features=hidden_units, # output dimension of block2 should be the input shape. HINT: check the output shape of block2 in the forward function\n",
    "                          out_features=output_shape)\n",
    "        )\n",
    "    \n",
    "    def forward(self, x: torch.Tensor):\n",
    "        x = self.block1(x)\n",
    "        print(x.shape)\n",
    "        x = self.block2(x)\n",
    "        print(x.shape)\n",
    "        x = self.classifier(x)\n",
    "        print(x.shape)\n",
    "        return x"
   ]
  },
  {
   "cell_type": "code",
   "execution_count": 154,
   "metadata": {},
   "outputs": [
    {
     "data": {
      "text/plain": [
       "MNISTCnn(\n",
       "  (block1): Sequential(\n",
       "    (0): Conv2d(1, 10, kernel_size=(3, 3), stride=(1, 1), padding=(1, 1))\n",
       "    (1): ReLU()\n",
       "    (2): Conv2d(10, 10, kernel_size=(3, 3), stride=(1, 1), padding=(1, 1))\n",
       "    (3): ReLU()\n",
       "    (4): MaxPool2d(kernel_size=2, stride=2, padding=0, dilation=1, ceil_mode=False)\n",
       "  )\n",
       "  (block2): Sequential(\n",
       "    (0): Conv2d(10, 10, kernel_size=(3, 3), stride=(1, 1), padding=(1, 1))\n",
       "    (1): ReLU()\n",
       "    (2): Conv2d(10, 10, kernel_size=(3, 3), stride=(1, 1), padding=(1, 1))\n",
       "    (3): ReLU()\n",
       "    (4): MaxPool2d(kernel_size=2, stride=2, padding=0, dilation=1, ceil_mode=False)\n",
       "  )\n",
       "  (classifier): Sequential(\n",
       "    (0): Flatten(start_dim=1, end_dim=-1)\n",
       "    (1): Linear(in_features=10, out_features=10, bias=True)\n",
       "  )\n",
       ")"
      ]
     },
     "execution_count": 154,
     "metadata": {},
     "output_type": "execute_result"
    }
   ],
   "source": [
    "# find out the shape of the output of block2 by creating an initial model object\n",
    "torch.manual_seed(42)\n",
    "\n",
    "test_model = MNISTCnn(input_shape=1, hidden_units=10, output_shape=10)\n",
    "test_model"
   ]
  },
  {
   "cell_type": "code",
   "execution_count": 155,
   "metadata": {},
   "outputs": [
    {
     "name": "stdout",
     "output_type": "stream",
     "text": [
      "test image shape: torch.Size([1, 28, 28])\n"
     ]
    }
   ],
   "source": [
    "# create a test image\n",
    "\n",
    "test_input = torch.randn([32,1,28,28])\n",
    "test_image = test_input[1]\n",
    "print(f'test image shape: {test_image.shape}')"
   ]
  },
  {
   "cell_type": "code",
   "execution_count": null,
   "metadata": {},
   "outputs": [],
   "source": [
    "# test_model(test_input) will error because Linear input doesn't match output of 2nd conv block, hint: size is hidden_units*7*7"
   ]
  },
  {
   "cell_type": "code",
   "execution_count": 156,
   "metadata": {},
   "outputs": [],
   "source": [
    "# Now we modify our model slightly so the input in the classification block matches the output of the final conv block\n",
    "class MNISTCnnV2(nn.Module):\n",
    "    '''\n",
    "    MNISTCnn model, patterned on the TinyVGG architecture\n",
    "    '''\n",
    "    def __init__(self,input_shape: int, hidden_units: int, output_shape: int) -> None:\n",
    "        '''\n",
    "        input_shape - number of input features, ie, colour channel, width, height\n",
    "        hidden_units - number of neurons in the hidden layers\n",
    "        output_shape - number of classes/labels\n",
    "\n",
    "        2 blocks of 2 conv layers and maxpooling layer\n",
    "        a flatten and a classifier at the output\n",
    "        '''\n",
    "        super().__init__()\n",
    "        self.block1 = nn.Sequential(\n",
    "            nn.Conv2d(in_channels=input_shape,\n",
    "                      out_channels=hidden_units,\n",
    "                      kernel_size=3,\n",
    "                      stride=1,\n",
    "                      padding=1),\n",
    "            nn.ReLU(),\n",
    "            nn.Conv2d(in_channels=hidden_units,\n",
    "                      out_channels=hidden_units,\n",
    "                      kernel_size=3,\n",
    "                      stride=1,\n",
    "                      padding=1),\n",
    "            nn.ReLU(),\n",
    "            nn.MaxPool2d(kernel_size=2,stride=2)          \n",
    "        )\n",
    "        self.block2 = nn.Sequential(\n",
    "            nn.Conv2d(in_channels=hidden_units,\n",
    "                      out_channels=hidden_units,\n",
    "                      kernel_size=3,\n",
    "                      padding=1),\n",
    "            nn.ReLU(),\n",
    "            nn.Conv2d(in_channels=hidden_units,\n",
    "                      out_channels=hidden_units,\n",
    "                      kernel_size=3,\n",
    "                      padding=1),\n",
    "            nn.ReLU(),\n",
    "            nn.MaxPool2d(kernel_size=2)          \n",
    "        )\n",
    "        self.classifier = nn.Sequential(\n",
    "            nn.Flatten(),\n",
    "            nn.Linear(in_features=hidden_units*7*7, # output dimension of block2 should be the input shape; eg if output of block 2 is [10 7 7] , in_features should be 10*7*7\n",
    "                          out_features=output_shape)\n",
    "        )\n",
    "    \n",
    "    def forward(self, x: torch.Tensor):\n",
    "        x = self.block1(x)\n",
    "        # print(x.shape)\n",
    "        x = self.block2(x)\n",
    "        # print(x.shape)\n",
    "        x = self.classifier(x)\n",
    "        # print(x.shape)\n",
    "        return x"
   ]
  },
  {
   "cell_type": "code",
   "execution_count": 157,
   "metadata": {},
   "outputs": [
    {
     "name": "stdout",
     "output_type": "stream",
     "text": [
      "test input shape: torch.Size([32, 1, 28, 28]), test image shape: torch.Size([1, 28, 28])\n"
     ]
    }
   ],
   "source": [
    "torch.manual_seed(42)\n",
    "\n",
    "test_model_2 = MNISTCnnV2(input_shape=1, hidden_units=10, output_shape=10)\n",
    "# create a test image\n",
    "test_input_2 = torch.randn([32,1,28,28])\n",
    "test_image_2 = test_input[1]\n",
    "print(f'test input shape: {test_input_2.shape}, test image shape: {test_image_2.shape}')"
   ]
  },
  {
   "cell_type": "code",
   "execution_count": 158,
   "metadata": {},
   "outputs": [
    {
     "data": {
      "text/plain": [
       "tensor([2, 2, 2, 2, 2, 2, 2, 2, 2, 2, 2, 2, 2, 2, 2, 2, 2, 2, 2, 2, 2, 2, 2, 2,\n",
       "        2, 2, 2, 2, 2, 2, 2, 2])"
      ]
     },
     "execution_count": 158,
     "metadata": {},
     "output_type": "execute_result"
    }
   ],
   "source": [
    "# test the model\n",
    "test_model_2(test_input_2).argmax(dim=1)"
   ]
  },
  {
   "attachments": {},
   "cell_type": "markdown",
   "metadata": {},
   "source": [
    "We can also find the dimensions of the `MaxPool2d()` function if we run the following formula:\n",
    "\n",
    "$$\n",
    "\n",
    "Input: (N,C,H_in,W_in)(N,C,H_in​,W_in​) or (C,H_in,W_in)(C,H_in​,W_in​)\n",
    "\\\\\n",
    "Output: (N,C,H_out,W_out)(N,C,H_out​,W_out​) or (C,H_out,W_out)(C,H_out​,W_out​), where\n",
    "$$\n",
    "$$\n",
    "H_{out}​=\\frac{H_{in}​+2∗padding[0]−dilation[0]×(kernelsize[0]−1)−1​}{stride[0]}+1\\\\\n",
    "W_{out}=\\frac{W_{in}+2∗padding[1]−dilation[1]×(kernelsize[1]−1)−1}{stride[1]}+1\n",
    "\n",
    "\n",
    "\n",
    "$$"
   ]
  },
  {
   "attachments": {},
   "cell_type": "markdown",
   "metadata": {},
   "source": [
    "## 4. Train and Test Data"
   ]
  },
  {
   "cell_type": "code",
   "execution_count": 159,
   "metadata": {},
   "outputs": [],
   "source": [
    "# now create a model we'll be working with\n",
    "mnist_tinyvgg = MNISTCnnV2(input_shape=1, hidden_units=10,output_shape=len(class_names)) # grayscale == 1 colour channel as input shape\n",
    "# mnist_tinyvgg.to(device=device)"
   ]
  },
  {
   "cell_type": "code",
   "execution_count": 160,
   "metadata": {},
   "outputs": [],
   "source": [
    "# Choose cost function and optimizer\n",
    "# using cross-entropy for multi-class classification\n",
    "ce_loss = nn.CrossEntropyLoss()\n",
    "# and using stochastic gradient descent as an optimizer\n",
    "sgd_optim = torch.optim.SGD(params=mnist_tinyvgg.parameters(), lr=0.1)"
   ]
  },
  {
   "cell_type": "code",
   "execution_count": 161,
   "metadata": {},
   "outputs": [],
   "source": [
    "\n",
    "# prepare data again, start from scratch\n",
    "X_train, y_train = read_data(DATA_DIR)\n",
    "X_test, y_test = read_data(DATA_DIR)\n",
    "batches = 100\n",
    "train_dl = DataLoader(ImageDatasetV2(X_train,y_train), batch_size=batches, shuffle=False)\n",
    "test_dl = DataLoader(ImageDatasetV2(X_test,y_test), batch_size=batches, shuffle=False)\n"
   ]
  },
  {
   "cell_type": "code",
   "execution_count": 164,
   "metadata": {},
   "outputs": [],
   "source": [
    "import torchmetrics\n",
    "\n",
    "tmetrics_acc = torchmetrics.Accuracy(task='multiclass', num_classes = len(class_names)).to(device)\n",
    "\n",
    "# bespoke accuracy function\n",
    "def accuracy_fn(y_true, y_pred):\n",
    "    correct = torch.eq(y_true, y_pred).sum().item() # torch.eq() calculates where two tensors are equal\n",
    "    acc = correct / len(y_pred)\n",
    "    return acc\n",
    "\n",
    "# Create a train and test functions\n",
    "def train(train, model, loss_fn, optim):\n",
    "    train_loss = 0\n",
    "    train_acc = 0\n",
    "    model.train()\n",
    "    for batch, (X,y) in enumerate(train):\n",
    "        # cast labels to long tensor\n",
    "        X = X.to(device)\n",
    "        y = y.type(torch.LongTensor).to(device)\n",
    "        # 1. forward pass\n",
    "        y_pred = model(X)\n",
    "        # 2. calculate loss, compare predictions with actual values\n",
    "        y_loss = loss_fn(y_pred, y)\n",
    "        train_loss += y_loss\n",
    "        # tmp_acc = tmetrics_acc(y_pred.argmax(dim=1), y)\n",
    "        tmp_acc = accuracy_fn(y, y_pred.argmax(dim=1)) # y_pred is the prediction probabilities, the label being the index that has the highest probability\n",
    "        train_acc += tmp_acc\n",
    "        if batch > 0 and batch % 100 == 0:\n",
    "            print(f'batch {batch} of {len(train)}: loss {y_loss}, accuracy: {tmp_acc*100}%')\n",
    "        # 3. zero-grad to clear gradients\n",
    "        optim.zero_grad() \n",
    "        # 4. backward pass\n",
    "        y_loss.backward()\n",
    "        # 5. optimizer step\n",
    "        optim.step()\n",
    "    return model, train_loss/len(train), train_acc/len(train)\n",
    "\n",
    "def test(test, model, loss_fn):\n",
    "    loss = 0\n",
    "    acc = 0\n",
    "    model.eval() # turn on eval mode\n",
    "    with torch.inference_mode():\n",
    "        for X,y in test:\n",
    "            X = X.to(device)\n",
    "            y = y.type(torch.LongTensor).to(device)\n",
    "            y_pred = model(X)\n",
    "            loss += loss_fn(y_pred,y)\n",
    "            # acc += tmetrics_acc(y_pred.argmax(dim=1),y)\n",
    "            acc += accuracy_fn(y, y_pred.argmax(dim=1))\n",
    "    # calculate mean loss and accuracy\n",
    "    mean_loss = loss/len(test)\n",
    "    mean_acc = acc/len(test)\n",
    "    return mean_loss,mean_acc"
   ]
  },
  {
   "cell_type": "code",
   "execution_count": 166,
   "metadata": {},
   "outputs": [
    {
     "name": "stderr",
     "output_type": "stream",
     "text": [
      "  0%|          | 0/3 [00:00<?, ?it/s]"
     ]
    },
    {
     "name": "stdout",
     "output_type": "stream",
     "text": [
      "epoch: 0\n",
      "batch 100 of 600: loss 0.21740899980068207, accuracy: 94.0%\n",
      "batch 200 of 600: loss 0.3461986184120178, accuracy: 88.0%\n",
      "batch 300 of 600: loss 0.23892204463481903, accuracy: 92.0%\n",
      "batch 400 of 600: loss 0.3760848939418793, accuracy: 89.0%\n",
      "batch 500 of 600: loss 0.36140143871307373, accuracy: 90.0%\n",
      "train loss: 0.25402602553367615, train accuracy: 90.88166666666666%\n"
     ]
    },
    {
     "name": "stderr",
     "output_type": "stream",
     "text": [
      " 33%|███▎      | 1/3 [00:06<00:12,  6.38s/it]"
     ]
    },
    {
     "name": "stdout",
     "output_type": "stream",
     "text": [
      "test loss: 0.24404844641685486, test accuracy: 91.32000000000001%\n",
      "epoch: 1\n",
      "batch 100 of 600: loss 0.20357856154441833, accuracy: 94.0%\n",
      "batch 200 of 600: loss 0.3456666171550751, accuracy: 87.0%\n",
      "batch 300 of 600: loss 0.24491502344608307, accuracy: 91.0%\n",
      "batch 400 of 600: loss 0.3729304373264313, accuracy: 88.0%\n",
      "batch 500 of 600: loss 0.36994117498397827, accuracy: 89.0%\n",
      "train loss: 0.2501995265483856, train accuracy: 90.95500000000001%\n"
     ]
    },
    {
     "name": "stderr",
     "output_type": "stream",
     "text": [
      " 67%|██████▋   | 2/3 [00:12<00:06,  6.37s/it]"
     ]
    },
    {
     "name": "stdout",
     "output_type": "stream",
     "text": [
      "test loss: 0.2373882383108139, test accuracy: 91.57166666666664%\n",
      "epoch: 2\n",
      "batch 100 of 600: loss 0.21826620399951935, accuracy: 94.0%\n",
      "batch 200 of 600: loss 0.33751243352890015, accuracy: 87.0%\n",
      "batch 300 of 600: loss 0.24662235379219055, accuracy: 93.0%\n",
      "batch 400 of 600: loss 0.3837118446826935, accuracy: 88.0%\n",
      "batch 500 of 600: loss 0.36604487895965576, accuracy: 89.0%\n",
      "train loss: 0.2466646432876587, train accuracy: 91.06999999999994%\n"
     ]
    },
    {
     "name": "stderr",
     "output_type": "stream",
     "text": [
      "100%|██████████| 3/3 [00:18<00:00,  6.27s/it]"
     ]
    },
    {
     "name": "stdout",
     "output_type": "stream",
     "text": [
      "test loss: 0.23565082252025604, test accuracy: 91.59833333333347%\n"
     ]
    },
    {
     "name": "stderr",
     "output_type": "stream",
     "text": [
      "\n"
     ]
    }
   ],
   "source": [
    "from tqdm.auto import tqdm\n",
    "# test-loop on 3 epochs\n",
    "epochs = 3\n",
    "\n",
    "mnist_tinyvgg.to(device=device)\n",
    "# train-test loop\n",
    "for epoch in tqdm(range(epochs)):\n",
    "    print(f'epoch: {epoch}')\n",
    "    model, train_loss, train_acc = train(train=train_dl, model=mnist_tinyvgg, loss_fn=ce_loss, optim=sgd_optim)\n",
    "    print(f'train loss: {train_loss}, train accuracy: {train_acc*100}%')\n",
    "    loss, acc = test(test=test_dl, model=mnist_tinyvgg, loss_fn=ce_loss)\n",
    "    print(f'test loss: {loss}, test accuracy: {acc*100}%')\n",
    "    "
   ]
  },
  {
   "cell_type": "code",
   "execution_count": null,
   "metadata": {},
   "outputs": [],
   "source": []
  }
 ],
 "metadata": {
  "kernelspec": {
   "display_name": "DSMLAI-QzrnWrD-",
   "language": "python",
   "name": "python3"
  },
  "language_info": {
   "codemirror_mode": {
    "name": "ipython",
    "version": 3
   },
   "file_extension": ".py",
   "mimetype": "text/x-python",
   "name": "python",
   "nbconvert_exporter": "python",
   "pygments_lexer": "ipython3",
   "version": "3.10.6"
  },
  "orig_nbformat": 4,
  "vscode": {
   "interpreter": {
    "hash": "496f89ec6b1cd8318249905457faea3ccbbf8afccd6225957186a03a213c2be2"
   }
  }
 },
 "nbformat": 4,
 "nbformat_minor": 2
}
